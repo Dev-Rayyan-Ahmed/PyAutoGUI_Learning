{
 "cells": [
  {
   "cell_type": "code",
   "execution_count": null,
   "id": "4c3b674d",
   "metadata": {},
   "outputs": [],
   "source": [
    "import pyautogui as pyauto\n",
    "import time\n"
   ]
  },
  {
   "cell_type": "code",
   "execution_count": 8,
   "id": "56589dc8",
   "metadata": {},
   "outputs": [
    {
     "name": "stdout",
     "output_type": "stream",
     "text": [
      "Box(left=np.int64(111), top=np.int64(0), width=45, height=48)\n"
     ]
    }
   ],
   "source": [
    "# Searching for image on screen\n",
    "res = pyauto.locateOnScreen('edit.png')\n",
    "print(res)\n",
    "pyauto.moveTo(res)"
   ]
  },
  {
   "cell_type": "code",
   "execution_count": 10,
   "id": "2d214a33",
   "metadata": {},
   "outputs": [
    {
     "name": "stdout",
     "output_type": "stream",
     "text": [
      "Point(x=np.int64(133), y=np.int64(24))\n",
      "Point(x=np.int64(133), y=np.int64(24))\n"
     ]
    }
   ],
   "source": [
    "# Access Center\n",
    "print(pyauto.center(res)) # from Box Obj\n",
    "print(pyauto.locateCenterOnScreen('edit.png')) # from Img -> direct Center"
   ]
  },
  {
   "cell_type": "code",
   "execution_count": 22,
   "id": "5f054f90",
   "metadata": {},
   "outputs": [
    {
     "name": "stdout",
     "output_type": "stream",
     "text": [
      "LinhYM\n"
     ]
    }
   ],
   "source": [
    "# Youtube Subscriber: <Project>\n",
    "time.sleep(3)\n",
    "\n",
    "Channel_Name = pyauto.prompt(text=\"\",title=\"Enter Channel Name\")\n",
    "print(Channel_Name)\n",
    "\n",
    "pyauto.hotkey('ctrl','t')\n",
    "pyauto.write('http://youtube.com')\n",
    "pyauto.press('enter')\n",
    "time.sleep(10)\n",
    "\n",
    "search_bar = pyauto.locateCenterOnScreen('Search_bar.png', confidence=0.9)\n",
    "pyauto.moveTo(search_bar)\n",
    "pyauto.click()\n",
    "pyauto.write(Channel_Name)\n",
    "pyauto.press('Enter')\n",
    "\n",
    "time.sleep(5)\n",
    "pyauto.moveTo(1699,374) #can also locate \n",
    "pyauto.click()\n",
    "\n"
   ]
  },
  {
   "cell_type": "code",
   "execution_count": null,
   "id": "9682d278",
   "metadata": {},
   "outputs": [],
   "source": []
  }
 ],
 "metadata": {
  "kernelspec": {
   "display_name": "Python 3",
   "language": "python",
   "name": "python3"
  },
  "language_info": {
   "codemirror_mode": {
    "name": "ipython",
    "version": 3
   },
   "file_extension": ".py",
   "mimetype": "text/x-python",
   "name": "python",
   "nbconvert_exporter": "python",
   "pygments_lexer": "ipython3",
   "version": "3.12.4"
  }
 },
 "nbformat": 4,
 "nbformat_minor": 5
}
