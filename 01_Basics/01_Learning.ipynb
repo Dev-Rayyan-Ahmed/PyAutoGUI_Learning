{
 "cells": [
  {
   "cell_type": "code",
   "execution_count": 7,
   "id": "80596db1",
   "metadata": {},
   "outputs": [
    {
     "name": "stdout",
     "output_type": "stream",
     "text": [
      "Import OK\n"
     ]
    }
   ],
   "source": [
    "import pyautogui as pyauto\n",
    "import time\n",
    "print(\"Import OK\")"
   ]
  },
  {
   "cell_type": "code",
   "execution_count": 13,
   "id": "05103284",
   "metadata": {},
   "outputs": [
    {
     "name": "stdout",
     "output_type": "stream",
     "text": [
      "Size(width=1920, height=1080)\n",
      "Point(x=170, y=170)\n",
      "Point(x=105, y=155)\n"
     ]
    }
   ],
   "source": [
    "print(pyauto.size())\n",
    "\n",
    "# Mouse Functions:\n",
    "for i in range(2):\n",
    "    time.sleep(2)\n",
    "    print(pyauto.position()) "
   ]
  },
  {
   "cell_type": "code",
   "execution_count": 16,
   "id": "0a1fa31e",
   "metadata": {},
   "outputs": [],
   "source": [
    "# Move Mouse\n",
    "pyauto.moveTo(105,155,1)\n",
    "pyauto.click()"
   ]
  },
  {
   "cell_type": "code",
   "execution_count": 23,
   "id": "a987a5f8",
   "metadata": {},
   "outputs": [],
   "source": [
    "pyauto.click(105,155,4,1,button=\"left\")\n",
    "# <x> , <y> , <num_clicks>, <intervals>, <button_type>"
   ]
  },
  {
   "cell_type": "code",
   "execution_count": null,
   "id": "91ff5c8b",
   "metadata": {},
   "outputs": [
    {
     "name": "stdout",
     "output_type": "stream",
     "text": [
      "ScrollDownNow\n"
     ]
    }
   ],
   "source": [
    "time.sleep(4)\n",
    "## Click on Scroll bar or an enviroment where MouseWheel can control it\n",
    "pyauto.scroll(100000)\n",
    "print(\"ScrollDownNow\")\n",
    "pyauto.scroll(-500)"
   ]
  },
  {
   "cell_type": "code",
   "execution_count": 30,
   "id": "0ca4fc04",
   "metadata": {},
   "outputs": [],
   "source": [
    "# try on paint Area\n",
    "time.sleep(4)\n",
    "pyauto.mouseDown(button=\"left\")\n",
    "pyauto.moveTo(1000,1000)\n",
    "pyauto.mouseUp()"
   ]
  },
  {
   "cell_type": "code",
   "execution_count": 34,
   "id": "0a0c0de7",
   "metadata": {},
   "outputs": [],
   "source": [
    "## Spiral Draw\n",
    "time.sleep(5)\n",
    "distance = 300\n",
    "\n",
    "# pyauto.mouseDown()\n",
    "while distance > 0:\n",
    "    pyauto.dragRel(distance, 0, 1, button=\"left\")\n",
    "    distance = distance - 50\n",
    "    pyauto.dragRel(0, distance, 1, button=\"left\")\n",
    "    pyauto.dragRel(-distance, 0, 1, button=\"left\")\n",
    "    distance = distance - 50\n",
    "    pyauto.dragRel(0, -distance, 1, button=\"left\")\n",
    "\n"
   ]
  },
  {
   "cell_type": "code",
   "execution_count": 39,
   "id": "273ff1c1",
   "metadata": {},
   "outputs": [],
   "source": [
    "# Keyboard Functions\n",
    "time.sleep(3)\n",
    "pyauto.write(\"String\")\n",
    "pyauto.press(\"enter\")\n",
    "pyauto.press(\"space\")\n",
    "\n",
    "time.sleep(4)\n",
    "pyauto.hotkey('ctrl','a')\n",
    "time.sleep(2)\n",
    "pyauto.press('delete')"
   ]
  },
  {
   "cell_type": "code",
   "execution_count": null,
   "id": "33bf40c8",
   "metadata": {},
   "outputs": [],
   "source": []
  }
 ],
 "metadata": {
  "kernelspec": {
   "display_name": "Python 3",
   "language": "python",
   "name": "python3"
  },
  "language_info": {
   "codemirror_mode": {
    "name": "ipython",
    "version": 3
   },
   "file_extension": ".py",
   "mimetype": "text/x-python",
   "name": "python",
   "nbconvert_exporter": "python",
   "pygments_lexer": "ipython3",
   "version": "3.12.4"
  }
 },
 "nbformat": 4,
 "nbformat_minor": 5
}
