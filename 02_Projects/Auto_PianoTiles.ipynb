{
 "cells": [
  {
   "cell_type": "code",
   "execution_count": 11,
   "id": "e3eb89a9",
   "metadata": {},
   "outputs": [],
   "source": [
    "import pyautogui as pyauto\n",
    "import time\n",
    "import win32api,win32con\n",
    "import keyboard\n",
    "import random"
   ]
  },
  {
   "cell_type": "code",
   "execution_count": null,
   "id": "f41198ae",
   "metadata": {},
   "outputs": [
    {
     "name": "stdout",
     "output_type": "stream",
     "text": [
      "Point(x=448, y=606)\n",
      "Point(x=538, y=612)\n",
      "Point(x=687, y=598)\n",
      "Point(x=804, y=604)\n"
     ]
    }
   ],
   "source": [
    "time.sleep(5)\n",
    "# pyauto.displayMousePosition() ### Too Fast..\n",
    "for i in range(4):\n",
    "    print(pyauto.position())\n",
    "    time.sleep(3)"
   ]
  },
  {
   "cell_type": "code",
   "execution_count": 6,
   "id": "1dc4007b",
   "metadata": {},
   "outputs": [],
   "source": [
    "Tile1 = (448,600)\n",
    "Tile2 = (538,600)\n",
    "Tile3 = (687,600)\n",
    "Tile4 = (804,600)"
   ]
  },
  {
   "cell_type": "code",
   "execution_count": 16,
   "id": "713ad856",
   "metadata": {},
   "outputs": [],
   "source": [
    "def click(x,y):\n",
    "    win32api.SetCursorPos((x,y))\n",
    "    win32api.mouse_event(win32con.MOUSEEVENTF_LEFTDOWN,0,0)\n",
    "    time.sleep(0.01)\n",
    "    win32api.mouse_event(win32con.MOUSEEVENTF_LEFTUP,0,0)\n"
   ]
  },
  {
   "cell_type": "code",
   "execution_count": 19,
   "id": "f03153f9",
   "metadata": {},
   "outputs": [],
   "source": [
    "time.sleep(3)\n",
    "while keyboard.is_pressed(\"q\") == False:\n",
    "\n",
    "    if pyauto.pixel(Tile1[0],Tile1[1])[0] == 0:\n",
    "        click(Tile1[0],Tile1[1])\n",
    "\n",
    "    if pyauto.pixel(Tile2[0],Tile2[1])[0] == 0:\n",
    "        click(Tile2[0],Tile2[1])\n",
    "\n",
    "    if pyauto.pixel(Tile3[0],Tile3[1])[0] == 0:\n",
    "        click(Tile3[0],Tile3[1])\n",
    "\n",
    "    if pyauto.pixel(Tile4[0],Tile4[1])[0] == 0:\n",
    "        click(Tile4[0],Tile4[1])\n",
    "    \n"
   ]
  },
  {
   "cell_type": "code",
   "execution_count": null,
   "id": "71ac6667",
   "metadata": {},
   "outputs": [],
   "source": []
  }
 ],
 "metadata": {
  "kernelspec": {
   "display_name": "Python 3",
   "language": "python",
   "name": "python3"
  },
  "language_info": {
   "codemirror_mode": {
    "name": "ipython",
    "version": 3
   },
   "file_extension": ".py",
   "mimetype": "text/x-python",
   "name": "python",
   "nbconvert_exporter": "python",
   "pygments_lexer": "ipython3",
   "version": "3.12.4"
  }
 },
 "nbformat": 4,
 "nbformat_minor": 5
}
